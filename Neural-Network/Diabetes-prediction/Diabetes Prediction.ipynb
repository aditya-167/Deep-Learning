{
 "cells": [
  {
   "cell_type": "markdown",
   "metadata": {},
   "source": [
    "### Feed Forward Neural Network for Diabetes Prediction"
   ]
  },
  {
   "cell_type": "code",
   "execution_count": 1,
   "metadata": {},
   "outputs": [],
   "source": [
    "import numpy as np\n",
    "import torch"
   ]
  },
  {
   "cell_type": "markdown",
   "metadata": {},
   "source": [
    "**Import Dataset diabetes.csv from Data/diabetes.csv**"
   ]
  },
  {
   "cell_type": "code",
   "execution_count": 3,
   "metadata": {},
   "outputs": [
    {
     "name": "stdout",
     "output_type": "stream",
     "text": [
      "Collecting pandas\n",
      "  Downloading pandas-1.1.5-cp36-cp36m-win_amd64.whl (8.7 MB)\n",
      "Requirement already satisfied: numpy>=1.15.4 in c:\\users\\india\\anaconda3\\envs\\dl\\lib\\site-packages (from pandas) (1.18.5)\n",
      "Requirement already satisfied: python-dateutil>=2.7.3 in c:\\users\\india\\anaconda3\\envs\\dl\\lib\\site-packages (from pandas) (2.8.1)\n",
      "Collecting pytz>=2017.2\n",
      "  Downloading pytz-2021.1-py2.py3-none-any.whl (510 kB)\n",
      "Requirement already satisfied: six>=1.5 in c:\\users\\india\\anaconda3\\envs\\dl\\lib\\site-packages (from python-dateutil>=2.7.3->pandas) (1.15.0)\n",
      "Installing collected packages: pytz, pandas\n",
      "Successfully installed pandas-1.1.5 pytz-2021.1\n"
     ]
    }
   ],
   "source": [
    "!pip install pandas"
   ]
  },
  {
   "cell_type": "code",
   "execution_count": 12,
   "metadata": {},
   "outputs": [],
   "source": [
    "import pandas as pd\n",
    "df = pd.read_csv('Data/diabetes.csv')"
   ]
  },
  {
   "cell_type": "code",
   "execution_count": 13,
   "metadata": {},
   "outputs": [
    {
     "data": {
      "text/html": [
       "<div>\n",
       "<style scoped>\n",
       "    .dataframe tbody tr th:only-of-type {\n",
       "        vertical-align: middle;\n",
       "    }\n",
       "\n",
       "    .dataframe tbody tr th {\n",
       "        vertical-align: top;\n",
       "    }\n",
       "\n",
       "    .dataframe thead th {\n",
       "        text-align: right;\n",
       "    }\n",
       "</style>\n",
       "<table border=\"1\" class=\"dataframe\">\n",
       "  <thead>\n",
       "    <tr style=\"text-align: right;\">\n",
       "      <th></th>\n",
       "      <th>Number of times pregnant</th>\n",
       "      <th>Plasma glucose concentration</th>\n",
       "      <th>Diastolic blood pressure</th>\n",
       "      <th>Triceps skin fold thickness</th>\n",
       "      <th>2-Hour serum insulin</th>\n",
       "      <th>Body mass index</th>\n",
       "      <th>Age</th>\n",
       "      <th>Class</th>\n",
       "    </tr>\n",
       "  </thead>\n",
       "  <tbody>\n",
       "    <tr>\n",
       "      <th>0</th>\n",
       "      <td>6</td>\n",
       "      <td>148</td>\n",
       "      <td>72</td>\n",
       "      <td>35</td>\n",
       "      <td>0</td>\n",
       "      <td>33.6</td>\n",
       "      <td>50</td>\n",
       "      <td>positive</td>\n",
       "    </tr>\n",
       "    <tr>\n",
       "      <th>1</th>\n",
       "      <td>1</td>\n",
       "      <td>85</td>\n",
       "      <td>66</td>\n",
       "      <td>29</td>\n",
       "      <td>0</td>\n",
       "      <td>26.6</td>\n",
       "      <td>31</td>\n",
       "      <td>negative</td>\n",
       "    </tr>\n",
       "    <tr>\n",
       "      <th>2</th>\n",
       "      <td>8</td>\n",
       "      <td>183</td>\n",
       "      <td>64</td>\n",
       "      <td>0</td>\n",
       "      <td>0</td>\n",
       "      <td>23.3</td>\n",
       "      <td>32</td>\n",
       "      <td>positive</td>\n",
       "    </tr>\n",
       "    <tr>\n",
       "      <th>3</th>\n",
       "      <td>1</td>\n",
       "      <td>89</td>\n",
       "      <td>66</td>\n",
       "      <td>23</td>\n",
       "      <td>94</td>\n",
       "      <td>28.1</td>\n",
       "      <td>21</td>\n",
       "      <td>negative</td>\n",
       "    </tr>\n",
       "    <tr>\n",
       "      <th>4</th>\n",
       "      <td>0</td>\n",
       "      <td>137</td>\n",
       "      <td>40</td>\n",
       "      <td>35</td>\n",
       "      <td>168</td>\n",
       "      <td>43.1</td>\n",
       "      <td>33</td>\n",
       "      <td>positive</td>\n",
       "    </tr>\n",
       "  </tbody>\n",
       "</table>\n",
       "</div>"
      ],
      "text/plain": [
       "   Number of times pregnant  Plasma glucose concentration  \\\n",
       "0                         6                           148   \n",
       "1                         1                            85   \n",
       "2                         8                           183   \n",
       "3                         1                            89   \n",
       "4                         0                           137   \n",
       "\n",
       "   Diastolic blood pressure  Triceps skin fold thickness  \\\n",
       "0                        72                           35   \n",
       "1                        66                           29   \n",
       "2                        64                            0   \n",
       "3                        66                           23   \n",
       "4                        40                           35   \n",
       "\n",
       "   2-Hour serum insulin  Body mass index  Age     Class  \n",
       "0                     0             33.6   50  positive  \n",
       "1                     0             26.6   31  negative  \n",
       "2                     0             23.3   32  positive  \n",
       "3                    94             28.1   21  negative  \n",
       "4                   168             43.1   33  positive  "
      ]
     },
     "execution_count": 13,
     "metadata": {},
     "output_type": "execute_result"
    }
   ],
   "source": [
    "df.head()"
   ]
  },
  {
   "cell_type": "markdown",
   "metadata": {},
   "source": [
    "### Data preprocess"
   ]
  },
  {
   "cell_type": "code",
   "execution_count": 19,
   "metadata": {},
   "outputs": [],
   "source": [
    "features = df.iloc[:,:-1]\n",
    "labels = df.iloc[:,-1]"
   ]
  },
  {
   "cell_type": "code",
   "execution_count": 28,
   "metadata": {},
   "outputs": [],
   "source": [
    "features_numpy = features.values\n",
    "labels_list = list(labels)"
   ]
  },
  {
   "cell_type": "code",
   "execution_count": 29,
   "metadata": {},
   "outputs": [],
   "source": [
    "def convert_str_int(labels):\n",
    "    labels_int = []\n",
    "    for i in labels:\n",
    "        if i=='positive':\n",
    "            labels_int.append(1)\n",
    "        else:\n",
    "            labels_int.append(0)\n",
    "    return labels_int"
   ]
  },
  {
   "cell_type": "code",
   "execution_count": 30,
   "metadata": {},
   "outputs": [],
   "source": [
    "labels_numpy = np.array(convert_str_int(labels_list)) "
   ]
  },
  {
   "cell_type": "markdown",
   "metadata": {},
   "source": [
    "### Data Normalization"
   ]
  },
  {
   "cell_type": "code",
   "execution_count": 37,
   "metadata": {},
   "outputs": [
    {
     "data": {
      "text/html": [
       "<div>\n",
       "<style scoped>\n",
       "    .dataframe tbody tr th:only-of-type {\n",
       "        vertical-align: middle;\n",
       "    }\n",
       "\n",
       "    .dataframe tbody tr th {\n",
       "        vertical-align: top;\n",
       "    }\n",
       "\n",
       "    .dataframe thead th {\n",
       "        text-align: right;\n",
       "    }\n",
       "</style>\n",
       "<table border=\"1\" class=\"dataframe\">\n",
       "  <thead>\n",
       "    <tr style=\"text-align: right;\">\n",
       "      <th></th>\n",
       "      <th>Number of times pregnant</th>\n",
       "      <th>Plasma glucose concentration</th>\n",
       "      <th>Diastolic blood pressure</th>\n",
       "      <th>Triceps skin fold thickness</th>\n",
       "      <th>2-Hour serum insulin</th>\n",
       "      <th>Body mass index</th>\n",
       "      <th>Age</th>\n",
       "    </tr>\n",
       "  </thead>\n",
       "  <tbody>\n",
       "    <tr>\n",
       "      <th>count</th>\n",
       "      <td>768.000000</td>\n",
       "      <td>768.000000</td>\n",
       "      <td>768.000000</td>\n",
       "      <td>768.000000</td>\n",
       "      <td>768.000000</td>\n",
       "      <td>768.000000</td>\n",
       "      <td>768.000000</td>\n",
       "    </tr>\n",
       "    <tr>\n",
       "      <th>mean</th>\n",
       "      <td>3.845052</td>\n",
       "      <td>120.894531</td>\n",
       "      <td>69.105469</td>\n",
       "      <td>20.536458</td>\n",
       "      <td>79.799479</td>\n",
       "      <td>31.992578</td>\n",
       "      <td>33.240885</td>\n",
       "    </tr>\n",
       "    <tr>\n",
       "      <th>std</th>\n",
       "      <td>3.369578</td>\n",
       "      <td>31.972618</td>\n",
       "      <td>19.355807</td>\n",
       "      <td>15.952218</td>\n",
       "      <td>115.244002</td>\n",
       "      <td>7.884160</td>\n",
       "      <td>11.760232</td>\n",
       "    </tr>\n",
       "    <tr>\n",
       "      <th>min</th>\n",
       "      <td>0.000000</td>\n",
       "      <td>0.000000</td>\n",
       "      <td>0.000000</td>\n",
       "      <td>0.000000</td>\n",
       "      <td>0.000000</td>\n",
       "      <td>0.000000</td>\n",
       "      <td>21.000000</td>\n",
       "    </tr>\n",
       "    <tr>\n",
       "      <th>25%</th>\n",
       "      <td>1.000000</td>\n",
       "      <td>99.000000</td>\n",
       "      <td>62.000000</td>\n",
       "      <td>0.000000</td>\n",
       "      <td>0.000000</td>\n",
       "      <td>27.300000</td>\n",
       "      <td>24.000000</td>\n",
       "    </tr>\n",
       "    <tr>\n",
       "      <th>50%</th>\n",
       "      <td>3.000000</td>\n",
       "      <td>117.000000</td>\n",
       "      <td>72.000000</td>\n",
       "      <td>23.000000</td>\n",
       "      <td>30.500000</td>\n",
       "      <td>32.000000</td>\n",
       "      <td>29.000000</td>\n",
       "    </tr>\n",
       "    <tr>\n",
       "      <th>75%</th>\n",
       "      <td>6.000000</td>\n",
       "      <td>140.250000</td>\n",
       "      <td>80.000000</td>\n",
       "      <td>32.000000</td>\n",
       "      <td>127.250000</td>\n",
       "      <td>36.600000</td>\n",
       "      <td>41.000000</td>\n",
       "    </tr>\n",
       "    <tr>\n",
       "      <th>max</th>\n",
       "      <td>17.000000</td>\n",
       "      <td>199.000000</td>\n",
       "      <td>122.000000</td>\n",
       "      <td>99.000000</td>\n",
       "      <td>846.000000</td>\n",
       "      <td>67.100000</td>\n",
       "      <td>81.000000</td>\n",
       "    </tr>\n",
       "  </tbody>\n",
       "</table>\n",
       "</div>"
      ],
      "text/plain": [
       "       Number of times pregnant  Plasma glucose concentration  \\\n",
       "count                768.000000                    768.000000   \n",
       "mean                   3.845052                    120.894531   \n",
       "std                    3.369578                     31.972618   \n",
       "min                    0.000000                      0.000000   \n",
       "25%                    1.000000                     99.000000   \n",
       "50%                    3.000000                    117.000000   \n",
       "75%                    6.000000                    140.250000   \n",
       "max                   17.000000                    199.000000   \n",
       "\n",
       "       Diastolic blood pressure  Triceps skin fold thickness  \\\n",
       "count                768.000000                   768.000000   \n",
       "mean                  69.105469                    20.536458   \n",
       "std                   19.355807                    15.952218   \n",
       "min                    0.000000                     0.000000   \n",
       "25%                   62.000000                     0.000000   \n",
       "50%                   72.000000                    23.000000   \n",
       "75%                   80.000000                    32.000000   \n",
       "max                  122.000000                    99.000000   \n",
       "\n",
       "       2-Hour serum insulin  Body mass index         Age  \n",
       "count            768.000000       768.000000  768.000000  \n",
       "mean              79.799479        31.992578   33.240885  \n",
       "std              115.244002         7.884160   11.760232  \n",
       "min                0.000000         0.000000   21.000000  \n",
       "25%                0.000000        27.300000   24.000000  \n",
       "50%               30.500000        32.000000   29.000000  \n",
       "75%              127.250000        36.600000   41.000000  \n",
       "max              846.000000        67.100000   81.000000  "
      ]
     },
     "execution_count": 37,
     "metadata": {},
     "output_type": "execute_result"
    }
   ],
   "source": [
    "features.describe()"
   ]
  },
  {
   "cell_type": "markdown",
   "metadata": {},
   "source": [
    "* Normalize these features to -1 to 1"
   ]
  },
  {
   "cell_type": "code",
   "execution_count": 40,
   "metadata": {},
   "outputs": [],
   "source": [
    "from sklearn.preprocessing import StandardScaler"
   ]
  },
  {
   "cell_type": "code",
   "execution_count": 42,
   "metadata": {},
   "outputs": [],
   "source": [
    "sc = StandardScaler()\n",
    "features_numpy = sc.fit_transform(features_numpy)"
   ]
  },
  {
   "cell_type": "markdown",
   "metadata": {},
   "source": [
    "##### Convert to pytorch tensors"
   ]
  },
  {
   "cell_type": "code",
   "execution_count": 61,
   "metadata": {},
   "outputs": [],
   "source": [
    "X = torch.tensor(features_numpy)\n",
    "Y = torch.tensor(labels_numpy).unsqueeze(1)"
   ]
  },
  {
   "cell_type": "code",
   "execution_count": 64,
   "metadata": {},
   "outputs": [
    {
     "name": "stdout",
     "output_type": "stream",
     "text": [
      "torch.Size([768, 7])\n",
      "torch.Size([768, 1])\n"
     ]
    }
   ],
   "source": [
    "print(X.shape)\n",
    "print(Y.shape)"
   ]
  },
  {
   "cell_type": "markdown",
   "metadata": {},
   "source": [
    "#### Create and load Dataset"
   ]
  },
  {
   "cell_type": "code",
   "execution_count": 86,
   "metadata": {},
   "outputs": [],
   "source": [
    "from torch.utils.data import Dataset\n",
    "class Datasets(Dataset):\n",
    "    def __init__(self, x,y):\n",
    "        self.x = x\n",
    "        self.y = y\n",
    "    \n",
    "    def __getitem__(self, index):\n",
    "        return self.x[index], self.y[index]\n",
    "    \n",
    "    def __len__(self):\n",
    "        return len(self.x)\n",
    "    "
   ]
  },
  {
   "cell_type": "code",
   "execution_count": 87,
   "metadata": {},
   "outputs": [],
   "source": [
    "dataset = Datasets(X,Y)"
   ]
  },
  {
   "cell_type": "code",
   "execution_count": 88,
   "metadata": {},
   "outputs": [
    {
     "data": {
      "text/plain": [
       "768"
      ]
     },
     "execution_count": 88,
     "metadata": {},
     "output_type": "execute_result"
    }
   ],
   "source": [
    "len(dataset)"
   ]
  },
  {
   "cell_type": "code",
   "execution_count": 116,
   "metadata": {},
   "outputs": [],
   "source": [
    "# Load the data to DataLoader for batch processing and shuffling\n",
    "train_loader = torch.utils.data.DataLoader(dataset = dataset, \n",
    "                            batch_size =32, \n",
    "                            shuffle = True)"
   ]
  },
  {
   "cell_type": "code",
   "execution_count": 117,
   "metadata": {},
   "outputs": [
    {
     "name": "stdout",
     "output_type": "stream",
     "text": [
      "There are 24 batches in dataset\n",
      "for one iteration (batch): \n",
      "Data :     torch.Size([32, 7])\n",
      "Label :     torch.Size([32, 1])\n"
     ]
    }
   ],
   "source": [
    "print(\"There are {} batches in dataset\".format(len(train_loader)))\n",
    "\n",
    "for (x,y) in train_loader:\n",
    "    print(\"for one iteration (batch): \")\n",
    "    print(\"Data :     {}\".format(x.shape))\n",
    "    print(\"Label :     {}\".format(y.shape))\n",
    "    break"
   ]
  },
  {
   "cell_type": "markdown",
   "metadata": {},
   "source": [
    "### Model Architecture\n",
    "![alt text](Data/architecture.png \"Model\")"
   ]
  },
  {
   "cell_type": "code",
   "execution_count": 118,
   "metadata": {},
   "outputs": [],
   "source": [
    "class MyModel(torch.nn.Module):\n",
    "    \n",
    "    def __init__(self, input_features, output_features):\n",
    "        super(MyModel,self).__init__()\n",
    "        self.fc1 = torch.nn.Linear(input_features,7)\n",
    "        self.fc2 = torch.nn.Linear(7,4)\n",
    "        self.fc3 = torch.nn.Linear(4,2)\n",
    "        self.fc4 = torch.nn.Linear(2,output_features)\n",
    "\n",
    "        #ouput activation : sigmoid\n",
    "        #hidden activation : tanh\n",
    "\n",
    "        self.sigmoid = torch.nn.Sigmoid()\n",
    "        self.tanh = torch.nn.Tanh()\n",
    "    \n",
    "    def forward(self,x):\n",
    "        out = self.fc1(x)\n",
    "        out = self.tanh(out)\n",
    "        out = self.fc2(out)\n",
    "        out = self.tanh(out)\n",
    "        out = self.fc3(out)\n",
    "        out = self.tanh(out)\n",
    "        out = self.fc4(out)\n",
    "        out = self.sigmoid(out)\n",
    "        \n",
    "        return out"
   ]
  },
  {
   "cell_type": "markdown",
   "metadata": {},
   "source": [
    "#### Binary Cross Entropy Loss\n",
    "L = -1/N * [(Summation) i=1 to N ] (yi.log(p(yi)) + (1-yi).log(p(yi))"
   ]
  },
  {
   "cell_type": "code",
   "execution_count": 119,
   "metadata": {},
   "outputs": [],
   "source": [
    "input_features = X.shape[1]\n",
    "output_features = Y.shape[1]\n",
    "net = MyModel(input_features,output_features)"
   ]
  },
  {
   "cell_type": "code",
   "execution_count": 120,
   "metadata": {},
   "outputs": [],
   "source": [
    "criterion = torch.nn.BCELoss(size_average = True)\n",
    "optimizer = torch.optim.SGD(net.parameters(),lr = 0.11, momentum = 0.9)"
   ]
  },
  {
   "cell_type": "markdown",
   "metadata": {},
   "source": [
    "#### Training Network"
   ]
  },
  {
   "cell_type": "code",
   "execution_count": 121,
   "metadata": {},
   "outputs": [
    {
     "name": "stdout",
     "output_type": "stream",
     "text": [
      "Epoch 1/200, Loss: 0.6859, Accuracy: 0.594\n",
      "Epoch 2/200, Loss: 0.5604, Accuracy: 0.750\n",
      "Epoch 3/200, Loss: 0.6999, Accuracy: 0.656\n",
      "Epoch 4/200, Loss: 0.5190, Accuracy: 0.719\n",
      "Epoch 5/200, Loss: 0.6488, Accuracy: 0.719\n",
      "Epoch 6/200, Loss: 0.4035, Accuracy: 0.812\n",
      "Epoch 7/200, Loss: 0.3640, Accuracy: 0.844\n",
      "Epoch 8/200, Loss: 0.5659, Accuracy: 0.719\n",
      "Epoch 9/200, Loss: 0.5494, Accuracy: 0.750\n",
      "Epoch 10/200, Loss: 0.6019, Accuracy: 0.625\n",
      "Epoch 11/200, Loss: 0.5669, Accuracy: 0.688\n",
      "Epoch 12/200, Loss: 0.4424, Accuracy: 0.750\n",
      "Epoch 13/200, Loss: 0.3632, Accuracy: 0.844\n",
      "Epoch 14/200, Loss: 0.4967, Accuracy: 0.719\n",
      "Epoch 15/200, Loss: 0.4478, Accuracy: 0.812\n",
      "Epoch 16/200, Loss: 0.5707, Accuracy: 0.719\n",
      "Epoch 17/200, Loss: 0.4779, Accuracy: 0.750\n",
      "Epoch 18/200, Loss: 0.4611, Accuracy: 0.781\n",
      "Epoch 19/200, Loss: 0.4871, Accuracy: 0.781\n",
      "Epoch 20/200, Loss: 0.4959, Accuracy: 0.719\n",
      "Epoch 21/200, Loss: 0.4879, Accuracy: 0.781\n",
      "Epoch 22/200, Loss: 0.5221, Accuracy: 0.719\n",
      "Epoch 23/200, Loss: 0.4579, Accuracy: 0.781\n",
      "Epoch 24/200, Loss: 0.5158, Accuracy: 0.656\n",
      "Epoch 25/200, Loss: 0.4283, Accuracy: 0.812\n",
      "Epoch 26/200, Loss: 0.4093, Accuracy: 0.844\n",
      "Epoch 27/200, Loss: 0.3159, Accuracy: 0.844\n",
      "Epoch 28/200, Loss: 0.5215, Accuracy: 0.750\n",
      "Epoch 29/200, Loss: 0.3668, Accuracy: 0.750\n",
      "Epoch 30/200, Loss: 0.4572, Accuracy: 0.719\n",
      "Epoch 31/200, Loss: 0.3447, Accuracy: 0.906\n",
      "Epoch 32/200, Loss: 0.3486, Accuracy: 0.844\n",
      "Epoch 33/200, Loss: 0.4663, Accuracy: 0.781\n",
      "Epoch 34/200, Loss: 0.3350, Accuracy: 0.844\n",
      "Epoch 35/200, Loss: 0.4455, Accuracy: 0.781\n",
      "Epoch 36/200, Loss: 0.3192, Accuracy: 0.844\n",
      "Epoch 37/200, Loss: 0.4340, Accuracy: 0.812\n",
      "Epoch 38/200, Loss: 0.3831, Accuracy: 0.781\n",
      "Epoch 39/200, Loss: 0.5584, Accuracy: 0.719\n",
      "Epoch 40/200, Loss: 0.3490, Accuracy: 0.781\n",
      "Epoch 41/200, Loss: 0.5149, Accuracy: 0.875\n",
      "Epoch 42/200, Loss: 0.5932, Accuracy: 0.750\n",
      "Epoch 43/200, Loss: 0.4085, Accuracy: 0.844\n",
      "Epoch 44/200, Loss: 0.3613, Accuracy: 0.906\n",
      "Epoch 45/200, Loss: 0.5798, Accuracy: 0.750\n",
      "Epoch 46/200, Loss: 0.2689, Accuracy: 0.875\n",
      "Epoch 47/200, Loss: 0.4488, Accuracy: 0.812\n",
      "Epoch 48/200, Loss: 0.4288, Accuracy: 0.781\n",
      "Epoch 49/200, Loss: 0.3321, Accuracy: 0.875\n",
      "Epoch 50/200, Loss: 0.4110, Accuracy: 0.750\n",
      "Epoch 51/200, Loss: 0.3838, Accuracy: 0.812\n",
      "Epoch 52/200, Loss: 0.4912, Accuracy: 0.719\n",
      "Epoch 53/200, Loss: 0.2459, Accuracy: 0.938\n",
      "Epoch 54/200, Loss: 0.4936, Accuracy: 0.781\n",
      "Epoch 55/200, Loss: 0.3746, Accuracy: 0.844\n",
      "Epoch 56/200, Loss: 0.4326, Accuracy: 0.812\n",
      "Epoch 57/200, Loss: 0.4713, Accuracy: 0.750\n",
      "Epoch 58/200, Loss: 0.3506, Accuracy: 0.812\n",
      "Epoch 59/200, Loss: 0.4414, Accuracy: 0.750\n",
      "Epoch 60/200, Loss: 0.2935, Accuracy: 0.875\n",
      "Epoch 61/200, Loss: 0.4510, Accuracy: 0.781\n",
      "Epoch 62/200, Loss: 0.2872, Accuracy: 0.906\n",
      "Epoch 63/200, Loss: 0.4690, Accuracy: 0.750\n",
      "Epoch 64/200, Loss: 0.2527, Accuracy: 0.938\n",
      "Epoch 65/200, Loss: 0.4244, Accuracy: 0.812\n",
      "Epoch 66/200, Loss: 0.4007, Accuracy: 0.906\n",
      "Epoch 67/200, Loss: 0.3547, Accuracy: 0.844\n",
      "Epoch 68/200, Loss: 0.3017, Accuracy: 0.938\n",
      "Epoch 69/200, Loss: 0.2976, Accuracy: 0.875\n",
      "Epoch 70/200, Loss: 0.3189, Accuracy: 0.875\n",
      "Epoch 71/200, Loss: 0.3552, Accuracy: 0.844\n",
      "Epoch 72/200, Loss: 0.3883, Accuracy: 0.812\n",
      "Epoch 73/200, Loss: 0.4282, Accuracy: 0.812\n",
      "Epoch 74/200, Loss: 0.3077, Accuracy: 0.906\n",
      "Epoch 75/200, Loss: 0.4268, Accuracy: 0.750\n",
      "Epoch 76/200, Loss: 0.5173, Accuracy: 0.750\n",
      "Epoch 77/200, Loss: 0.4749, Accuracy: 0.781\n",
      "Epoch 78/200, Loss: 0.4660, Accuracy: 0.781\n",
      "Epoch 79/200, Loss: 0.5035, Accuracy: 0.781\n",
      "Epoch 80/200, Loss: 0.3603, Accuracy: 0.844\n",
      "Epoch 81/200, Loss: 0.4440, Accuracy: 0.875\n",
      "Epoch 82/200, Loss: 0.3455, Accuracy: 0.875\n",
      "Epoch 83/200, Loss: 0.5752, Accuracy: 0.750\n",
      "Epoch 84/200, Loss: 0.5119, Accuracy: 0.781\n",
      "Epoch 85/200, Loss: 0.2842, Accuracy: 0.906\n",
      "Epoch 86/200, Loss: 0.4515, Accuracy: 0.781\n",
      "Epoch 87/200, Loss: 0.5331, Accuracy: 0.781\n",
      "Epoch 88/200, Loss: 0.3732, Accuracy: 0.875\n",
      "Epoch 89/200, Loss: 0.2607, Accuracy: 0.906\n",
      "Epoch 90/200, Loss: 0.4666, Accuracy: 0.719\n",
      "Epoch 91/200, Loss: 0.4864, Accuracy: 0.750\n",
      "Epoch 92/200, Loss: 0.4133, Accuracy: 0.812\n",
      "Epoch 93/200, Loss: 0.4063, Accuracy: 0.781\n",
      "Epoch 94/200, Loss: 0.2147, Accuracy: 0.938\n",
      "Epoch 95/200, Loss: 0.4608, Accuracy: 0.844\n",
      "Epoch 96/200, Loss: 0.4356, Accuracy: 0.812\n",
      "Epoch 97/200, Loss: 0.4371, Accuracy: 0.812\n",
      "Epoch 98/200, Loss: 0.3398, Accuracy: 0.844\n",
      "Epoch 99/200, Loss: 0.4005, Accuracy: 0.906\n",
      "Epoch 100/200, Loss: 0.4790, Accuracy: 0.750\n",
      "Epoch 101/200, Loss: 0.3547, Accuracy: 0.844\n",
      "Epoch 102/200, Loss: 0.4916, Accuracy: 0.781\n",
      "Epoch 103/200, Loss: 0.3453, Accuracy: 0.844\n",
      "Epoch 104/200, Loss: 0.6457, Accuracy: 0.656\n",
      "Epoch 105/200, Loss: 0.2493, Accuracy: 0.875\n",
      "Epoch 106/200, Loss: 0.5385, Accuracy: 0.750\n",
      "Epoch 107/200, Loss: 0.4996, Accuracy: 0.750\n",
      "Epoch 108/200, Loss: 0.2333, Accuracy: 0.938\n",
      "Epoch 109/200, Loss: 0.3488, Accuracy: 0.812\n",
      "Epoch 110/200, Loss: 0.4764, Accuracy: 0.812\n",
      "Epoch 111/200, Loss: 0.5925, Accuracy: 0.719\n",
      "Epoch 112/200, Loss: 0.4855, Accuracy: 0.719\n",
      "Epoch 113/200, Loss: 0.3718, Accuracy: 0.812\n",
      "Epoch 114/200, Loss: 0.5274, Accuracy: 0.719\n",
      "Epoch 115/200, Loss: 0.2097, Accuracy: 0.969\n",
      "Epoch 116/200, Loss: 0.4923, Accuracy: 0.750\n",
      "Epoch 117/200, Loss: 0.3245, Accuracy: 0.812\n",
      "Epoch 118/200, Loss: 0.4654, Accuracy: 0.844\n",
      "Epoch 119/200, Loss: 0.5540, Accuracy: 0.812\n",
      "Epoch 120/200, Loss: 0.4756, Accuracy: 0.844\n",
      "Epoch 121/200, Loss: 0.2316, Accuracy: 0.938\n",
      "Epoch 122/200, Loss: 0.4273, Accuracy: 0.844\n",
      "Epoch 123/200, Loss: 0.3201, Accuracy: 0.875\n",
      "Epoch 124/200, Loss: 0.3911, Accuracy: 0.844\n",
      "Epoch 125/200, Loss: 0.3825, Accuracy: 0.812\n",
      "Epoch 126/200, Loss: 0.3020, Accuracy: 0.875\n",
      "Epoch 127/200, Loss: 0.6258, Accuracy: 0.656\n",
      "Epoch 128/200, Loss: 0.6001, Accuracy: 0.719\n",
      "Epoch 129/200, Loss: 0.6441, Accuracy: 0.719\n",
      "Epoch 130/200, Loss: 0.3678, Accuracy: 0.844\n",
      "Epoch 131/200, Loss: 0.4283, Accuracy: 0.844\n",
      "Epoch 132/200, Loss: 0.3161, Accuracy: 0.875\n",
      "Epoch 133/200, Loss: 0.4278, Accuracy: 0.812\n",
      "Epoch 134/200, Loss: 0.4991, Accuracy: 0.719\n",
      "Epoch 135/200, Loss: 0.3965, Accuracy: 0.750\n",
      "Epoch 136/200, Loss: 0.3851, Accuracy: 0.844\n",
      "Epoch 137/200, Loss: 0.3588, Accuracy: 0.844\n",
      "Epoch 138/200, Loss: 0.3697, Accuracy: 0.812\n",
      "Epoch 139/200, Loss: 0.2500, Accuracy: 0.938\n",
      "Epoch 140/200, Loss: 0.4420, Accuracy: 0.688\n",
      "Epoch 141/200, Loss: 0.3211, Accuracy: 0.875\n",
      "Epoch 142/200, Loss: 0.3168, Accuracy: 0.906\n",
      "Epoch 143/200, Loss: 0.3665, Accuracy: 0.844\n",
      "Epoch 144/200, Loss: 0.3860, Accuracy: 0.812\n",
      "Epoch 145/200, Loss: 0.5251, Accuracy: 0.750\n",
      "Epoch 146/200, Loss: 0.4950, Accuracy: 0.781\n",
      "Epoch 147/200, Loss: 0.3749, Accuracy: 0.875\n",
      "Epoch 148/200, Loss: 0.3187, Accuracy: 0.812\n",
      "Epoch 149/200, Loss: 0.4675, Accuracy: 0.812\n",
      "Epoch 150/200, Loss: 0.3979, Accuracy: 0.875\n",
      "Epoch 151/200, Loss: 0.3941, Accuracy: 0.906\n",
      "Epoch 152/200, Loss: 0.3008, Accuracy: 0.875\n",
      "Epoch 153/200, Loss: 0.3029, Accuracy: 0.875\n",
      "Epoch 154/200, Loss: 0.2884, Accuracy: 0.844\n",
      "Epoch 155/200, Loss: 0.4925, Accuracy: 0.844\n",
      "Epoch 156/200, Loss: 0.3711, Accuracy: 0.875\n",
      "Epoch 157/200, Loss: 0.3652, Accuracy: 0.812\n",
      "Epoch 158/200, Loss: 0.3725, Accuracy: 0.844\n",
      "Epoch 159/200, Loss: 0.3660, Accuracy: 0.844\n",
      "Epoch 160/200, Loss: 0.3155, Accuracy: 0.875\n",
      "Epoch 161/200, Loss: 0.2044, Accuracy: 0.938\n",
      "Epoch 162/200, Loss: 0.4126, Accuracy: 0.812\n",
      "Epoch 163/200, Loss: 0.3836, Accuracy: 0.812\n",
      "Epoch 164/200, Loss: 0.3939, Accuracy: 0.844\n",
      "Epoch 165/200, Loss: 0.5149, Accuracy: 0.844\n",
      "Epoch 166/200, Loss: 0.3117, Accuracy: 0.875\n",
      "Epoch 167/200, Loss: 0.4962, Accuracy: 0.750\n",
      "Epoch 168/200, Loss: 0.3585, Accuracy: 0.812\n",
      "Epoch 169/200, Loss: 0.4921, Accuracy: 0.781\n",
      "Epoch 170/200, Loss: 0.4534, Accuracy: 0.781\n",
      "Epoch 171/200, Loss: 0.3224, Accuracy: 0.844\n",
      "Epoch 172/200, Loss: 0.3798, Accuracy: 0.812\n",
      "Epoch 173/200, Loss: 0.6874, Accuracy: 0.688\n",
      "Epoch 174/200, Loss: 0.4574, Accuracy: 0.812\n",
      "Epoch 175/200, Loss: 0.3066, Accuracy: 0.875\n",
      "Epoch 176/200, Loss: 0.4192, Accuracy: 0.812\n",
      "Epoch 177/200, Loss: 0.3038, Accuracy: 0.844\n",
      "Epoch 178/200, Loss: 0.2970, Accuracy: 0.875\n",
      "Epoch 179/200, Loss: 0.5253, Accuracy: 0.781\n",
      "Epoch 180/200, Loss: 0.2118, Accuracy: 0.938\n",
      "Epoch 181/200, Loss: 0.4335, Accuracy: 0.844\n",
      "Epoch 182/200, Loss: 0.3928, Accuracy: 0.844\n",
      "Epoch 183/200, Loss: 0.3448, Accuracy: 0.844\n",
      "Epoch 184/200, Loss: 0.4398, Accuracy: 0.781\n",
      "Epoch 185/200, Loss: 0.3730, Accuracy: 0.875\n",
      "Epoch 186/200, Loss: 0.4704, Accuracy: 0.844\n",
      "Epoch 187/200, Loss: 0.4915, Accuracy: 0.812\n",
      "Epoch 188/200, Loss: 0.2511, Accuracy: 0.906\n",
      "Epoch 189/200, Loss: 0.4378, Accuracy: 0.781\n"
     ]
    },
    {
     "name": "stdout",
     "output_type": "stream",
     "text": [
      "Epoch 190/200, Loss: 0.3754, Accuracy: 0.844\n",
      "Epoch 191/200, Loss: 0.3410, Accuracy: 0.875\n",
      "Epoch 192/200, Loss: 0.2129, Accuracy: 0.938\n",
      "Epoch 193/200, Loss: 0.4352, Accuracy: 0.812\n",
      "Epoch 194/200, Loss: 0.5352, Accuracy: 0.688\n",
      "Epoch 195/200, Loss: 0.5148, Accuracy: 0.781\n",
      "Epoch 196/200, Loss: 0.4351, Accuracy: 0.781\n",
      "Epoch 197/200, Loss: 0.3504, Accuracy: 0.844\n",
      "Epoch 198/200, Loss: 0.5347, Accuracy: 0.781\n",
      "Epoch 199/200, Loss: 0.2262, Accuracy: 0.906\n",
      "Epoch 200/200, Loss: 0.2630, Accuracy: 0.906\n"
     ]
    }
   ],
   "source": [
    "epochs = 200\n",
    "for epoch in range(epochs):\n",
    "    \n",
    "    net.train()\n",
    "    # this happens for each epoch / #'s batch\n",
    "    for inputs, labels in train_loader:\n",
    "        inputs = inputs.float()\n",
    "        labels = labels.float()\n",
    "        \n",
    "        #Forward Propagation\n",
    "        outputs = net.forward(inputs)\n",
    "        \n",
    "        #Loss calculation\n",
    "        loss = criterion(outputs, labels)\n",
    "        \n",
    "        # clear the gradient buffer only for pytorch(w <-- w- lr*gradient)\n",
    "        optimizer.zero_grad()\n",
    "        \n",
    "        #calculate gradients/ backprop\n",
    "        loss.backward()\n",
    "        \n",
    "        #update weights\n",
    "        optimizer.step()\n",
    "            \n",
    "            \n",
    "    #Accuracy\n",
    "    output = (outputs>0.5).float()\n",
    "    accuracy = (output == labels).float().mean()\n",
    "    \n",
    "    \n",
    "    #print stats\n",
    "    print(\"Epoch {}/{}, Loss: {:.4f}, Accuracy: {:.3f}\".format(epoch+1,epochs,loss,accuracy))"
   ]
  }
 ],
 "metadata": {
  "kernelspec": {
   "display_name": "Python 3",
   "language": "python",
   "name": "python3"
  },
  "language_info": {
   "codemirror_mode": {
    "name": "ipython",
    "version": 3
   },
   "file_extension": ".py",
   "mimetype": "text/x-python",
   "name": "python",
   "nbconvert_exporter": "python",
   "pygments_lexer": "ipython3",
   "version": "3.6.12"
  }
 },
 "nbformat": 4,
 "nbformat_minor": 4
}
